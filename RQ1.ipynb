{
 "cells": [
  {
   "cell_type": "markdown",
   "metadata": {},
   "source": [
    "# Homework 5 - Visit the Wikipedia hyperlinks graph!"
   ]
  },
  {
   "cell_type": "code",
   "execution_count": 1,
   "metadata": {},
   "outputs": [],
   "source": [
    "#import libraries:\n",
    "\n",
    "import numpy as np\n",
    "from collections import defaultdict"
   ]
  },
  {
   "cell_type": "markdown",
   "metadata": {},
   "source": [
    "## RQ1\n",
    "Build the graph G=(V, E), where V is the set of articles and E the hyperlinks among them, and provide its basic information:\n",
    "- If it is direct or not\n",
    "- The number of nodes\n",
    "- The number of edges\n",
    "- The average node degree. Is the graph dense?"
   ]
  },
  {
   "cell_type": "markdown",
   "metadata": {},
   "source": [
    "In the following chunck, we open the *wiki-topcats-reduced.txt* (the file with all the edges between pages) and from it we create a dictionary called *edges* and a set *nodes*.  \n",
    "The *edges* dictionary has as key a wiki page and as value a list of other wiki pages linked with it.   \n",
    "The *nodes* set is a collection of all the pages (i.e. nodes)."
   ]
  },
  {
   "cell_type": "code",
   "execution_count": 2,
   "metadata": {},
   "outputs": [],
   "source": [
    "f = open('wiki-topcats-reduced.txt')\n",
    "edges = defaultdict(list)\n",
    "nodes = set()\n",
    "\n",
    "for line in f:\n",
    "    (key, val) = line.split()\n",
    "    \n",
    "    #dictionary edges has as key the wiki page, as value a list of pages linked to the key page\n",
    "    edges[int(key)].append(val)\n",
    "    \n",
    "    #add key and value to nodes (both key and values are wiki pages)\n",
    "    #nodes is a set so if a page is already present it will not be added again\n",
    "    nodes.add(key)\n",
    "    nodes.add(val)\n",
    "\n",
    "edges = dict(edges) #edges from default dictionary to dictionary"
   ]
  },
  {
   "cell_type": "code",
   "execution_count": 3,
   "metadata": {},
   "outputs": [],
   "source": [
    "#print(edges)\n",
    "#print(nodes)"
   ]
  },
  {
   "cell_type": "markdown",
   "metadata": {},
   "source": [
    "Direct or not? "
   ]
  },
  {
   "cell_type": "code",
   "execution_count": 4,
   "metadata": {},
   "outputs": [
    {
     "name": "stdout",
     "output_type": "stream",
     "text": [
      "Directed Graph\n"
     ]
    }
   ],
   "source": [
    "#we iterate through edges dictionary\n",
    "for key, value in edges.items():\n",
    "    count = 0\n",
    "    #we took an edge e.g. A -> B\n",
    "    page1 = key\n",
    "    linked_page = value[0]\n",
    "    for k, v in edges.items():\n",
    "        #we look for the reverse edge e.g. B -> A\n",
    "        if k == linked_page and v[0] == page1:\n",
    "            #if it is present don't do anything\n",
    "            continue\n",
    "        else:\n",
    "            #otherwise add 1 to count\n",
    "            count += 1\n",
    "    #if count is equal to the total number of edges it means that B -> A do not exists so the graph\n",
    "    #is directed\n",
    "    if count == len(edges):\n",
    "        print('Directed Graph')\n",
    "        break"
   ]
  },
  {
   "cell_type": "markdown",
   "metadata": {},
   "source": [
    "Number of nodes:"
   ]
  },
  {
   "cell_type": "code",
   "execution_count": 5,
   "metadata": {},
   "outputs": [
    {
     "name": "stdout",
     "output_type": "stream",
     "text": [
      "The number of nodes: 461193\n"
     ]
    }
   ],
   "source": [
    "#The number of nodes\n",
    "print('The number of nodes:', len(nodes))"
   ]
  },
  {
   "cell_type": "markdown",
   "metadata": {},
   "source": [
    "Now taking information from *edges* dictionary we create another dictionary *degree*, where we have as key the page (as in *edges* dict) and as value the degree associated to that page, in each iteration we also sum the degrees, so that at the end of the for loop, we get in the variable *sum_degree* the sum of all node degrees. "
   ]
  },
  {
   "cell_type": "code",
   "execution_count": 6,
   "metadata": {},
   "outputs": [],
   "source": [
    "degree = {}\n",
    "sum_degrees = 0\n",
    "for key, value in edges.items():\n",
    "    degree[key]=len(value)\n",
    "    sum_degrees += degree[key]"
   ]
  },
  {
   "cell_type": "markdown",
   "metadata": {},
   "source": [
    "Number of edges and average node degree:"
   ]
  },
  {
   "cell_type": "code",
   "execution_count": 7,
   "metadata": {},
   "outputs": [
    {
     "name": "stdout",
     "output_type": "stream",
     "text": [
      "Number of edges: 2645247\n",
      "The average node degree: 5.735661642739591\n"
     ]
    }
   ],
   "source": [
    "#The number of edges\n",
    "tot_edges = sum_degrees\n",
    "print('Number of edges:', tot_edges)\n",
    "\n",
    "#The average node degree\n",
    "average_degree = sum_degrees/len(nodes)\n",
    "print('The average node degree:', average_degree)"
   ]
  },
  {
   "cell_type": "markdown",
   "metadata": {},
   "source": [
    "Is the graph dense? As you can see from the following code the graph is not dense."
   ]
  },
  {
   "cell_type": "code",
   "execution_count": 8,
   "metadata": {},
   "outputs": [
    {
     "name": "stdout",
     "output_type": "stream",
     "text": [
      "Maximal number of edges 212698522056\n",
      "Graph density is 0.0012436602635647607%\n"
     ]
    }
   ],
   "source": [
    "#maximal n. of edges:\n",
    "max_edgs_n = (len(nodes)*(len(nodes)-1))\n",
    "print('Maximal number of edges', max_edgs_n)\n",
    "\n",
    "#graph density\n",
    "density = tot_edges/max_edgs_n\n",
    "percentage_density = density * 100\n",
    "print('Graph density is '+str(percentage_density)+'%')"
   ]
  },
  {
   "cell_type": "markdown",
   "metadata": {},
   "source": [
    "Note: information about graph density taken [here](https://en.wikipedia.org/wiki/Dense_graph)"
   ]
  }
 ],
 "metadata": {
  "kernelspec": {
   "display_name": "Python 3",
   "language": "python",
   "name": "python3"
  },
  "language_info": {
   "codemirror_mode": {
    "name": "ipython",
    "version": 3
   },
   "file_extension": ".py",
   "mimetype": "text/x-python",
   "name": "python",
   "nbconvert_exporter": "python",
   "pygments_lexer": "ipython3",
   "version": "3.6.5"
  }
 },
 "nbformat": 4,
 "nbformat_minor": 2
}
